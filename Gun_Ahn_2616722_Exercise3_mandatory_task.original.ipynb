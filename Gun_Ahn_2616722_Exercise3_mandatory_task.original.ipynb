{
 "cells": [
  {
   "cell_type": "markdown",
   "metadata": {},
   "source": [
    "# Affective Computing - Programming Assignment 3\n",
    "\n",
    "### Objective\n",
    "\n",
    "Your task is to use the feature-level method to combine the facial expression features and audio features. A multi-modal emotion recognition system is constructed to recognize happy versus sadness facial expressions (binary-class problem) by using a classifier training and testing structure. Furthermore, using decision-level method to combine the result of ECG signals and videos including facial expression to decide the pain result. \n",
    "\n",
    "For the the original data of feature-level method is based on lab1 and lab2, from ten actors acting happy and sadness behaviors. \n",
    "The original data of decision-level method is from a pain dataset including ECG signals and vidoes of facial expressions. \n",
    "* Task 1: Subspace-based feature fusion method: In this case, z-score normalization is utilized. Please read “Fusing Gabor and LBP feature sets for kernel-based face recognition” and learn how to use subspace-based feature fusion method for multi-modal system.\n",
    "\n",
    "* Task 2: Based on Task1, use Canonical Correlation Analysis to calculate the correlation coefficient of facial expression and audio features. Finally, use CCA to build a multi-modal emotion recognition system. The method is described in one conference paper “Feature fusion method based on canonical correlation analysis and handwritten character recognition”\n",
    "\n",
    "* Task 3: Decision fusion based method, use ECG signals and vidoes of facial expressions to recognize the pain result. Finally, combine the decision of ECG signals and vidoes of facial expressions to build a multi-modal recognition system. \n",
    "\n",
    "* Task 4: Use feature-level method (Task 2) on 10-fold cross-validation estimate of the emotion recognition system performance\n",
    "\n",
    "To produce emotion recognition case, Support Vector Machine (SVM) classifiers are trained.  50 videos from 5 participants are used to train the emotion recognition, use spatiotemporal features. The rest of the data (50 videos) is used to evaluate the performances of the trained recognition systems.\n",
    "\n",
    "To produce the pain recognition result case in task 3, Support Vector Machine (SVM) classifiers are trained. 40 samples are used to train the pain recongtion model. And 30 samples are used to evaluate the performances of the trained recognition systems. \n",
    "\n"
   ]
  },
  {
   "cell_type": "markdown",
   "metadata": {},
   "source": [
    "## Task 1. Subspace-based method\n",
    "Please read “Fusing Gabor and LBP feature sets for kernel-based face recognition” and apply their framework for the exercise. We use Support Vector Machine (SVM) with linear kernel for classification.\n"
   ]
  },
  {
   "cell_type": "markdown",
   "metadata": {},
   "source": [
    "### Setting up the environment \n",
    "\n",
    "First, we need to import the basic modules for loading the data and data processing"
   ]
  },
  {
   "cell_type": "code",
   "execution_count": 1,
   "metadata": {},
   "outputs": [
    {
     "name": "stdout",
     "output_type": "stream",
     "text": [
      "Requirement already satisfied: matplotlib in c:\\users\\gahn18\\appdata\\local\\continuum\\anaconda3\\lib\\site-packages (3.1.0)\n",
      "Requirement already satisfied: cycler>=0.10 in c:\\users\\gahn18\\appdata\\local\\continuum\\anaconda3\\lib\\site-packages (from matplotlib) (0.10.0)\n",
      "Requirement already satisfied: kiwisolver>=1.0.1 in c:\\users\\gahn18\\appdata\\local\\continuum\\anaconda3\\lib\\site-packages (from matplotlib) (1.1.0)\n",
      "Requirement already satisfied: pyparsing!=2.0.4,!=2.1.2,!=2.1.6,>=2.0.1 in c:\\users\\gahn18\\appdata\\local\\continuum\\anaconda3\\lib\\site-packages (from matplotlib) (2.4.0)\n",
      "Requirement already satisfied: python-dateutil>=2.1 in c:\\users\\gahn18\\appdata\\local\\continuum\\anaconda3\\lib\\site-packages (from matplotlib) (2.8.0)\n",
      "Requirement already satisfied: numpy>=1.11 in c:\\users\\gahn18\\appdata\\local\\continuum\\anaconda3\\lib\\site-packages (from matplotlib) (1.16.4)\n",
      "Requirement already satisfied: six in c:\\users\\gahn18\\appdata\\local\\continuum\\anaconda3\\lib\\site-packages (from cycler>=0.10->matplotlib) (1.12.0)\n",
      "Requirement already satisfied: setuptools in c:\\users\\gahn18\\appdata\\local\\continuum\\anaconda3\\lib\\site-packages (from kiwisolver>=1.0.1->matplotlib) (41.0.1)\n"
     ]
    }
   ],
   "source": [
    "!pip install matplotlib"
   ]
  },
  {
   "cell_type": "code",
   "execution_count": 2,
   "metadata": {},
   "outputs": [],
   "source": [
    "import sys\n",
    "sys.path.append('../')\n",
    "\n",
    "from skimage import io\n",
    "from skimage import transform\n",
    "from skimage import color\n",
    "from skimage import img_as_ubyte\n",
    "import os\n",
    "import numpy as np\n",
    "import matplotlib.pyplot as plt\n",
    "import matplotlib.patches as patches\n",
    "import sklearn\n",
    "import scipy.io as sio\n"
   ]
  },
  {
   "cell_type": "markdown",
   "metadata": {},
   "source": [
    "### Loading data \n",
    "\n",
    "We load the facial expression data (training data, training class, testing data, testing class) and audio data (training data, testing data)"
   ]
  },
  {
   "cell_type": "code",
   "execution_count": 3,
   "metadata": {
    "scrolled": true
   },
   "outputs": [
    {
     "name": "stdout",
     "output_type": "stream",
     "text": [
      "dict_keys(['__header__', '__version__', '__globals__', 'speech_sample', 'testing_class', 'testing_data_mfcc', 'testing_data_proso', 'testing_personID', 'training_class', 'training_data_mfcc', 'training_data_proso', 'training_personID', 'training_data', 'testing_data'])\n",
      "(50, 708)\n",
      "(50, 1)\n"
     ]
    }
   ],
   "source": [
    "mdata = sio.loadmat('lab3_data.mat')\n",
    "print(mdata.keys())\n",
    "#facial expression training and testing data, training and testing class\n",
    "training_data = mdata['training_data']\n",
    "print(training_data.shape)\n",
    "testing_data = mdata['testing_data']\n",
    "\n",
    "training_class = mdata['training_class']\n",
    "print(training_class.shape)\n",
    "testing_class = mdata['testing_class']\n",
    "\n",
    "#audio training and testing data\n",
    "training_data_proso = mdata['training_data_proso']\n",
    "testing_data_proso = mdata['testing_data_proso']\n"
   ]
  },
  {
   "cell_type": "code",
   "execution_count": 4,
   "metadata": {},
   "outputs": [],
   "source": [
    "?mdata"
   ]
  },
  {
   "cell_type": "markdown",
   "metadata": {},
   "source": [
    "### Extract the subspace for facial expression feature and audio features. \n",
    "Extract the subspace for facial expression feature and audio features using principal component analysis through using __[`sklearn.decomposition.PCA()`](http://scikit-learn.org/stable/modules/generated/sklearn.decomposition.PCA.html)__ function.\n",
    "ReducedDim is the dimensionality of the reduced subspace.\n",
    "Set ReducedDim to 20 and 15 for facial expression feature and audio feature, respectively."
   ]
  },
  {
   "cell_type": "code",
   "execution_count": 12,
   "metadata": {},
   "outputs": [
    {
     "name": "stdout",
     "output_type": "stream",
     "text": [
      "(50, 708)\n",
      "(50, 20)\n"
     ]
    }
   ],
   "source": [
    "from sklearn.decomposition import PCA \n",
    "\n",
    "#set ReducedDim for facial expression feature and audio feature, respectively.\n",
    "reducedDim_v = 20;\n",
    "reducedDim_a = 15;\n",
    "\n",
    "#Extract subspace for facial expression feature though PCA\n",
    "#set n_components\n",
    "pca_v=PCA(n_components = reducedDim_v)\n",
    "pca_v.fit(training_data, testing_data)\n",
    "print(training_data.shape)\n",
    "#Transform training_data and testing data respectively\n",
    "pca_v_trans_training_data =pca_v.transform(training_data)\n",
    "pca_v_trans_testing_data =pca_v.transform(testing_data)\n",
    "\n",
    "print (pca_v_trans_testing_data.shape)\n",
    "#Extract subspace for audio features though PCA\n",
    "pca_a=PCA(n_components = reducedDim_a)\n",
    "pca_a.fit(training_data_proso, testing_data_proso)\n",
    "#Transform training_data and testing data respectively\n",
    "pca_a_trans_training_data  =pca_a.transform(training_data_proso)\n",
    "pca_a_trans_testing_data=pca_a.transform(testing_data_proso)  \n",
    "\n",
    "#print(pca_v_trans_training_data)\n",
    "\n",
    "#Concatenate ‘video training_data’ and ‘audio training_data’ into a new feature ‘combined_trainingData’\n",
    "sample_train = np.concatenate((pca_v_trans_training_data, pca_a_trans_training_data), axis=1 )  \n",
    "\n",
    "#Concatenate ‘video testing_data’ and ‘audio testing_data2 into a new feature ‘combined_testingData’.\n",
    "sample_test = np.concatenate((pca_v_trans_testing_data, pca_a_trans_testing_data),axis=1)   \n",
    "\n"
   ]
  },
  {
   "cell_type": "code",
   "execution_count": 6,
   "metadata": {},
   "outputs": [
    {
     "name": "stdout",
     "output_type": "stream",
     "text": [
      "Object `fit` not found.\n"
     ]
    }
   ],
   "source": [
    "?fit"
   ]
  },
  {
   "cell_type": "markdown",
   "metadata": {},
   "source": [
    "### Feature classification\n",
    "Use the __[`SVM`](http://scikit-learn.org/stable/modules/svm.html)__ function to train Support Vector Machine (SVM) classifiers.\n",
    "Construct an SVM using the ‘combined_trainingData’ and linear kernel. The ‘training_class’ group vector contains the class of samples: 1 = happy, 2 = sadness, corresponding to the rows of the training data matrices.\n",
    "\n",
    "Then, calculate average classification performances for both training and testing data. The correct class labels corresponding with the rows of the training and testing data matrices are in the variables ‘training_class’ and ‘testing_class’, respectively."
   ]
  },
  {
   "cell_type": "code",
   "execution_count": 7,
   "metadata": {},
   "outputs": [
    {
     "name": "stdout",
     "output_type": "stream",
     "text": [
      "100.0\n",
      "84.0\n"
     ]
    },
    {
     "name": "stderr",
     "output_type": "stream",
     "text": [
      "C:\\Users\\gahn18\\AppData\\Local\\Continuum\\anaconda3\\lib\\site-packages\\sklearn\\utils\\validation.py:724: DataConversionWarning: A column-vector y was passed when a 1d array was expected. Please change the shape of y to (n_samples, ), for example using ravel().\n",
      "  y = column_or_1d(y, warn=True)\n"
     ]
    }
   ],
   "source": [
    "from sklearn import svm\n",
    "\n",
    "# Train SVM classifier\n",
    "clf = svm.SVC(kernel ='linear')\n",
    "clf.fit(sample_train,training_class)  \n",
    "\n",
    "#The prediction results of training data and testing data respectively\n",
    "predict_train = clf.predict(sample_train)\n",
    "predict_test= clf.predict(sample_test)\n",
    "\n",
    "#Calculate and Print the training accuracy and testing accuracy. \n",
    "def cal_acc(str_):\n",
    "    x=0\n",
    "    for i in range (0, training_class.shape[0]):\n",
    "        if str_[i] == training_class[i] :\n",
    "            x= x+ 1 \n",
    "    acc_str = (x/training_class.shape[0]*100) \n",
    "    print (acc_str)\n",
    "    return ;\n",
    "def cal_acc_test(str_):\n",
    "    x=0\n",
    "    for i in range (0, testing_class.shape[0]):\n",
    "        if str_[i] == testing_class[i] :\n",
    "            x= x+ 1 \n",
    "    acc_str = (x/testing_class.shape[0]*100) \n",
    "    print (acc_str)\n",
    "    return ;\n",
    "cal_acc(predict_train)\n",
    "cal_acc_test(predict_test)\n"
   ]
  },
  {
   "cell_type": "markdown",
   "metadata": {},
   "source": [
    "Compute the confusion matrix through __[`sklearn.metrics.confusion_matrix()`](http://scikit-learn.org/stable/modules/generated/sklearn.decomposition.PCA.html)__function for training data and testing data respectively"
   ]
  },
  {
   "cell_type": "code",
   "execution_count": 8,
   "metadata": {},
   "outputs": [
    {
     "name": "stdout",
     "output_type": "stream",
     "text": [
      "[[25  0]\n",
      " [ 0 25]] \n",
      " [[20  5]\n",
      " [ 3 22]]\n"
     ]
    }
   ],
   "source": [
    "from sklearn.metrics import confusion_matrix\n",
    "conf_matrix_train = confusion_matrix(training_class, predict_train)\n",
    "conf_matrix_test = confusion_matrix(testing_class, predict_test)\n",
    "print (conf_matrix_train, '\\n',conf_matrix_test)"
   ]
  },
  {
   "cell_type": "markdown",
   "metadata": {},
   "source": [
    "### Question\n",
    "What is PCA? Why we use PCA? "
   ]
  },
  {
   "cell_type": "markdown",
   "metadata": {},
   "source": [
    "### Answer:\n",
    "Using orthogonal transformation convert high dimension data to lower dimension data(linear data). It can reduce dimensionality /Compression.\n",
    "\n",
    "PCA is the simpleset of the ture eigenvector-based multivariate analyeses. So it can deal with large datasets. There are no special assumptions on the data and PCA can be applied on every data-sets."
   ]
  },
  {
   "cell_type": "markdown",
   "metadata": {},
   "source": [
    "## Task 2. \n",
    "Based on Task1, use Canonical Correlation Analysis to calculate the correlation coefficient of facial expression and audio features. Finally, use CCA to build a multi-modal emotion recognition system.\n"
   ]
  },
  {
   "cell_type": "markdown",
   "metadata": {},
   "source": [
    "Use (__[`sklearn.cross_decomposition.CCA()`](http://scikit-learn.org/stable/modules/generated/sklearn.cross_decomposition.CCA.html)__) function to calculate the correlation coefficient of facial expression and audio features."
   ]
  },
  {
   "cell_type": "code",
   "execution_count": 9,
   "metadata": {},
   "outputs": [
    {
     "name": "stdout",
     "output_type": "stream",
     "text": [
      "(50, 30)\n",
      "(50, 15)\n"
     ]
    }
   ],
   "source": [
    "from sklearn.cross_decomposition import CCA\n",
    "import numpy as np\n",
    "\n",
    "#Use CCA to construct the Canonical Projective Vector (CPV)\n",
    "cca = CCA(n_components=reducedDim_a)\n",
    "cca.fit(pca_v_trans_training_data,pca_a_trans_training_data)\n",
    "\n",
    "#Construct Canonical Correlation Discriminant Features (CCDF) for training data and testing data\n",
    "cca_tran_v_train, cca_tran_a_train = cca.transform(pca_v_trans_training_data,pca_a_trans_training_data)\n",
    "cca_tran_v_test, cca_tran_a_test= cca.transform(pca_v_trans_testing_data,pca_a_trans_testing_data)\n",
    "\n",
    "\n",
    "# Concatenate multiple feature for training data and testing data respectively\n",
    "training_CCDF = np.concatenate((cca_tran_v_train, cca_tran_a_train),axis=1)\n",
    "testing_CCDF = np.concatenate((cca_tran_v_test, cca_tran_a_test),axis=1)\n",
    "\n",
    "print (training_CCDF.shape)\n",
    "print (cca_tran_v_train.shape)\n"
   ]
  },
  {
   "cell_type": "markdown",
   "metadata": {},
   "source": [
    "Train SVM classifiers through  'linear' kernel, print the training and testing accuracy and compute the confusion matrix."
   ]
  },
  {
   "cell_type": "code",
   "execution_count": 10,
   "metadata": {},
   "outputs": [
    {
     "name": "stdout",
     "output_type": "stream",
     "text": [
      "(50, 1)\n",
      "100.0\n",
      "84.0\n",
      "[[25  0]\n",
      " [ 0 25]] \n",
      " [[20  5]\n",
      " [ 3 22]]\n"
     ]
    },
    {
     "name": "stderr",
     "output_type": "stream",
     "text": [
      "C:\\Users\\gahn18\\AppData\\Local\\Continuum\\anaconda3\\lib\\site-packages\\sklearn\\utils\\validation.py:724: DataConversionWarning: A column-vector y was passed when a 1d array was expected. Please change the shape of y to (n_samples, ), for example using ravel().\n",
      "  y = column_or_1d(y, warn=True)\n"
     ]
    }
   ],
   "source": [
    "#Train svm classifier \n",
    "clf = svm.SVC(kernel='linear')\n",
    "clf.fit(training_CCDF, training_class)  \n",
    "print(training_class.shape)\n",
    "#The prediction results for training data and testing data \n",
    "prediction_train = clf.predict(training_CCDF)\n",
    "prediction_test = clf.predict(testing_CCDF)\n",
    "\n",
    "#Calculate and Print the training accuracy and testing accuracy. \n",
    "def cal_acc(str_):\n",
    "    y=0\n",
    "    for i in range (0, training_class.shape[0]):\n",
    "        if str_[i] == training_class[i] :\n",
    "            y+= 1 \n",
    "    acc_str = (y/training_class.shape[0]*100) \n",
    "    print (acc_str)\n",
    "    return ;\n",
    "\n",
    "cal_acc(predict_train)\n",
    "cal_acc(predict_test)\n",
    "#Compute the confusion matrix through sklearn.metrics.confusion_matrix()function for training data and testing data respectively\n",
    "conf_matrix_train = confusion_matrix(training_class, predict_train)\n",
    "conf_matrix_test = confusion_matrix(training_class, predict_test)\n",
    "print (conf_matrix_train, '\\n',conf_matrix_test)"
   ]
  },
  {
   "cell_type": "markdown",
   "metadata": {},
   "source": [
    "### Question\n",
    "What is CCA? Why we use CCA here?"
   ]
  },
  {
   "cell_type": "markdown",
   "metadata": {},
   "source": [
    "### Answer \n",
    "\n",
    "Finding linear combinations of X(X1, ..., Xn) and Y (Y1, ..., Ym) which have maximum correlation with each other.\n",
    "\n",
    "the only technique available for examining the relationship with multiple dependent variables. "
   ]
  },
  {
   "cell_type": "markdown",
   "metadata": {},
   "source": [
    "## Task 3. \n",
    "Here is a task to recognize pain through facial-expressions and ECG signals. Firstly, use ECG signals and vidoes of facial expressions to recognize the pain results. Finally, find a way (such as multiply and sum) to combine the decisions based on ECG signals and vidoes of facial expressions to build a multi-modal recognition system for better result. "
   ]
  },
  {
   "cell_type": "markdown",
   "metadata": {},
   "source": [
    "## Load data: \n",
    "We load the facial expression data and ECG data(training data ('ecg_train' and 'video_train'), training class ('label_train'), testing data ('ecg_test' and 'video_test'), testing class('label_test')) "
   ]
  },
  {
   "cell_type": "code",
   "execution_count": 11,
   "metadata": {},
   "outputs": [
    {
     "ename": "FileNotFoundError",
     "evalue": "[Errno 2] No such file or directory: 'exercise 3/exercise 3/ecg_facial_expression_video.mat'",
     "output_type": "error",
     "traceback": [
      "\u001b[1;31m---------------------------------------------------------------------------\u001b[0m",
      "\u001b[1;31mFileNotFoundError\u001b[0m                         Traceback (most recent call last)",
      "\u001b[1;32m~\\AppData\\Local\\Continuum\\anaconda3\\lib\\site-packages\\scipy\\io\\matlab\\mio.py\u001b[0m in \u001b[0;36m_open_file\u001b[1;34m(file_like, appendmat)\u001b[0m\n\u001b[0;32m     30\u001b[0m     \u001b[1;32mtry\u001b[0m\u001b[1;33m:\u001b[0m\u001b[1;33m\u001b[0m\u001b[1;33m\u001b[0m\u001b[0m\n\u001b[1;32m---> 31\u001b[1;33m         \u001b[1;32mreturn\u001b[0m \u001b[0mopen\u001b[0m\u001b[1;33m(\u001b[0m\u001b[0mfile_like\u001b[0m\u001b[1;33m,\u001b[0m \u001b[1;34m'rb'\u001b[0m\u001b[1;33m)\u001b[0m\u001b[1;33m,\u001b[0m \u001b[1;32mTrue\u001b[0m\u001b[1;33m\u001b[0m\u001b[1;33m\u001b[0m\u001b[0m\n\u001b[0m\u001b[0;32m     32\u001b[0m     \u001b[1;32mexcept\u001b[0m \u001b[0mIOError\u001b[0m\u001b[1;33m:\u001b[0m\u001b[1;33m\u001b[0m\u001b[1;33m\u001b[0m\u001b[0m\n",
      "\u001b[1;31mFileNotFoundError\u001b[0m: [Errno 2] No such file or directory: 'exercise 3/exercise 3/ecg_facial_expression_video.mat'",
      "\nDuring handling of the above exception, another exception occurred:\n",
      "\u001b[1;31mFileNotFoundError\u001b[0m                         Traceback (most recent call last)",
      "\u001b[1;32m<ipython-input-11-fe9538b4c750>\u001b[0m in \u001b[0;36m<module>\u001b[1;34m\u001b[0m\n\u001b[1;32m----> 1\u001b[1;33m \u001b[0mmdata\u001b[0m \u001b[1;33m=\u001b[0m \u001b[0msio\u001b[0m\u001b[1;33m.\u001b[0m\u001b[0mloadmat\u001b[0m\u001b[1;33m(\u001b[0m\u001b[1;34m'exercise 3/exercise 3/ecg_facial_expression_video.mat'\u001b[0m\u001b[1;33m)\u001b[0m\u001b[1;33m\u001b[0m\u001b[1;33m\u001b[0m\u001b[0m\n\u001b[0m\u001b[0;32m      2\u001b[0m \u001b[0mprint\u001b[0m \u001b[1;33m(\u001b[0m\u001b[0mmdata\u001b[0m\u001b[1;33m.\u001b[0m\u001b[0mkeys\u001b[0m\u001b[1;33m(\u001b[0m\u001b[1;33m)\u001b[0m\u001b[1;33m)\u001b[0m\u001b[1;33m\u001b[0m\u001b[1;33m\u001b[0m\u001b[0m\n\u001b[0;32m      3\u001b[0m \u001b[1;31m#facial expression video training and testing data\u001b[0m\u001b[1;33m\u001b[0m\u001b[1;33m\u001b[0m\u001b[1;33m\u001b[0m\u001b[0m\n\u001b[0;32m      4\u001b[0m \u001b[0mtraining_data_video\u001b[0m \u001b[1;33m=\u001b[0m \u001b[0mmdata\u001b[0m\u001b[1;33m[\u001b[0m\u001b[1;34m'video_train'\u001b[0m\u001b[1;33m]\u001b[0m\u001b[1;33m\u001b[0m\u001b[1;33m\u001b[0m\u001b[0m\n\u001b[0;32m      5\u001b[0m \u001b[0mtesting_data_video\u001b[0m \u001b[1;33m=\u001b[0m \u001b[0mmdata\u001b[0m\u001b[1;33m[\u001b[0m\u001b[1;34m'video_test'\u001b[0m\u001b[1;33m]\u001b[0m\u001b[1;33m\u001b[0m\u001b[1;33m\u001b[0m\u001b[0m\n",
      "\u001b[1;32m~\\AppData\\Local\\Continuum\\anaconda3\\lib\\site-packages\\scipy\\io\\matlab\\mio.py\u001b[0m in \u001b[0;36mloadmat\u001b[1;34m(file_name, mdict, appendmat, **kwargs)\u001b[0m\n\u001b[0;32m    205\u001b[0m     \"\"\"\n\u001b[0;32m    206\u001b[0m     \u001b[0mvariable_names\u001b[0m \u001b[1;33m=\u001b[0m \u001b[0mkwargs\u001b[0m\u001b[1;33m.\u001b[0m\u001b[0mpop\u001b[0m\u001b[1;33m(\u001b[0m\u001b[1;34m'variable_names'\u001b[0m\u001b[1;33m,\u001b[0m \u001b[1;32mNone\u001b[0m\u001b[1;33m)\u001b[0m\u001b[1;33m\u001b[0m\u001b[1;33m\u001b[0m\u001b[0m\n\u001b[1;32m--> 207\u001b[1;33m     \u001b[0mMR\u001b[0m\u001b[1;33m,\u001b[0m \u001b[0mfile_opened\u001b[0m \u001b[1;33m=\u001b[0m \u001b[0mmat_reader_factory\u001b[0m\u001b[1;33m(\u001b[0m\u001b[0mfile_name\u001b[0m\u001b[1;33m,\u001b[0m \u001b[0mappendmat\u001b[0m\u001b[1;33m,\u001b[0m \u001b[1;33m**\u001b[0m\u001b[0mkwargs\u001b[0m\u001b[1;33m)\u001b[0m\u001b[1;33m\u001b[0m\u001b[1;33m\u001b[0m\u001b[0m\n\u001b[0m\u001b[0;32m    208\u001b[0m     \u001b[0mmatfile_dict\u001b[0m \u001b[1;33m=\u001b[0m \u001b[0mMR\u001b[0m\u001b[1;33m.\u001b[0m\u001b[0mget_variables\u001b[0m\u001b[1;33m(\u001b[0m\u001b[0mvariable_names\u001b[0m\u001b[1;33m)\u001b[0m\u001b[1;33m\u001b[0m\u001b[1;33m\u001b[0m\u001b[0m\n\u001b[0;32m    209\u001b[0m     \u001b[1;32mif\u001b[0m \u001b[0mmdict\u001b[0m \u001b[1;32mis\u001b[0m \u001b[1;32mnot\u001b[0m \u001b[1;32mNone\u001b[0m\u001b[1;33m:\u001b[0m\u001b[1;33m\u001b[0m\u001b[1;33m\u001b[0m\u001b[0m\n",
      "\u001b[1;32m~\\AppData\\Local\\Continuum\\anaconda3\\lib\\site-packages\\scipy\\io\\matlab\\mio.py\u001b[0m in \u001b[0;36mmat_reader_factory\u001b[1;34m(file_name, appendmat, **kwargs)\u001b[0m\n\u001b[0;32m     60\u001b[0m \u001b[1;33m\u001b[0m\u001b[0m\n\u001b[0;32m     61\u001b[0m     \"\"\"\n\u001b[1;32m---> 62\u001b[1;33m     \u001b[0mbyte_stream\u001b[0m\u001b[1;33m,\u001b[0m \u001b[0mfile_opened\u001b[0m \u001b[1;33m=\u001b[0m \u001b[0m_open_file\u001b[0m\u001b[1;33m(\u001b[0m\u001b[0mfile_name\u001b[0m\u001b[1;33m,\u001b[0m \u001b[0mappendmat\u001b[0m\u001b[1;33m)\u001b[0m\u001b[1;33m\u001b[0m\u001b[1;33m\u001b[0m\u001b[0m\n\u001b[0m\u001b[0;32m     63\u001b[0m     \u001b[0mmjv\u001b[0m\u001b[1;33m,\u001b[0m \u001b[0mmnv\u001b[0m \u001b[1;33m=\u001b[0m \u001b[0mget_matfile_version\u001b[0m\u001b[1;33m(\u001b[0m\u001b[0mbyte_stream\u001b[0m\u001b[1;33m)\u001b[0m\u001b[1;33m\u001b[0m\u001b[1;33m\u001b[0m\u001b[0m\n\u001b[0;32m     64\u001b[0m     \u001b[1;32mif\u001b[0m \u001b[0mmjv\u001b[0m \u001b[1;33m==\u001b[0m \u001b[1;36m0\u001b[0m\u001b[1;33m:\u001b[0m\u001b[1;33m\u001b[0m\u001b[1;33m\u001b[0m\u001b[0m\n",
      "\u001b[1;32m~\\AppData\\Local\\Continuum\\anaconda3\\lib\\site-packages\\scipy\\io\\matlab\\mio.py\u001b[0m in \u001b[0;36m_open_file\u001b[1;34m(file_like, appendmat)\u001b[0m\n\u001b[0;32m     35\u001b[0m             \u001b[1;32mif\u001b[0m \u001b[0mappendmat\u001b[0m \u001b[1;32mand\u001b[0m \u001b[1;32mnot\u001b[0m \u001b[0mfile_like\u001b[0m\u001b[1;33m.\u001b[0m\u001b[0mendswith\u001b[0m\u001b[1;33m(\u001b[0m\u001b[1;34m'.mat'\u001b[0m\u001b[1;33m)\u001b[0m\u001b[1;33m:\u001b[0m\u001b[1;33m\u001b[0m\u001b[1;33m\u001b[0m\u001b[0m\n\u001b[0;32m     36\u001b[0m                 \u001b[0mfile_like\u001b[0m \u001b[1;33m+=\u001b[0m \u001b[1;34m'.mat'\u001b[0m\u001b[1;33m\u001b[0m\u001b[1;33m\u001b[0m\u001b[0m\n\u001b[1;32m---> 37\u001b[1;33m             \u001b[1;32mreturn\u001b[0m \u001b[0mopen\u001b[0m\u001b[1;33m(\u001b[0m\u001b[0mfile_like\u001b[0m\u001b[1;33m,\u001b[0m \u001b[1;34m'rb'\u001b[0m\u001b[1;33m)\u001b[0m\u001b[1;33m,\u001b[0m \u001b[1;32mTrue\u001b[0m\u001b[1;33m\u001b[0m\u001b[1;33m\u001b[0m\u001b[0m\n\u001b[0m\u001b[0;32m     38\u001b[0m         \u001b[1;32melse\u001b[0m\u001b[1;33m:\u001b[0m\u001b[1;33m\u001b[0m\u001b[1;33m\u001b[0m\u001b[0m\n\u001b[0;32m     39\u001b[0m             \u001b[1;32mraise\u001b[0m \u001b[0mIOError\u001b[0m\u001b[1;33m(\u001b[0m\u001b[1;34m'Reader needs file name or open file-like object'\u001b[0m\u001b[1;33m)\u001b[0m\u001b[1;33m\u001b[0m\u001b[1;33m\u001b[0m\u001b[0m\n",
      "\u001b[1;31mFileNotFoundError\u001b[0m: [Errno 2] No such file or directory: 'exercise 3/exercise 3/ecg_facial_expression_video.mat'"
     ]
    }
   ],
   "source": [
    "mdata = sio.loadmat('exercise 3/exercise 3/ecg_facial_expression_video.mat')\n",
    "print (mdata.keys())\n",
    "#facial expression video training and testing data\n",
    "training_data_video = mdata['video_train']\n",
    "testing_data_video = mdata['video_test']\n",
    "\n",
    "\n",
    "#ECG training and testing data, training and testing data\n",
    "training_data_ecg = mdata['ecg_train'] \n",
    "testing_data_ecg = mdata['ecg_test']\n",
    "\n",
    "#training and testing class\n",
    "training_class_ecg_video = mdata['label_train']\n",
    "testing_class_ecg_video = mdata['label_test']\n",
    "\n",
    "print(testing_data_ecg)"
   ]
  },
  {
   "cell_type": "markdown",
   "metadata": {},
   "source": [
    "### Feature classification\n",
    "Use the __[`SVM`](http://scikit-learn.org/stable/modules/svm.html)__ function to train Support Vector Machine (SVM) classifiers.\n",
    "Construct two SVM using linear kernel with C=1000 to classify facial video data and ECG data seprately. The ‘training_class’ group vector contains the class of samples: 1 = pain, 0 = no pain, corresponding to the rows of the training data matrices.\n",
    "\n",
    "Then, calculate average classification performances for both training and testing data. The correct class labels corresponding with the rows of the training and testing data matrices are in the variables ‘training_class’ and ‘testing_class’, respectively."
   ]
  },
  {
   "cell_type": "code",
   "execution_count": null,
   "metadata": {
    "scrolled": true
   },
   "outputs": [],
   "source": [
    "#Train svm classifier for facial expression data\n",
    "\n",
    "training_class_video_reshape = np.reshape(training_class_ecg_video, [-1,1])\n",
    "print (training_class_video_reshape.shape)\n",
    "print (training_class_ecg_video.shape)\n",
    "clf = svm.SVC(C=1000,kernel='linear')\n",
    "clf.fit(training_data_video.transpose(),training_class_video_reshape)  \n",
    "\n",
    "#print (training_data_video.transpose().shape)\n",
    "#print (testing_data_video.transpose().shape)\n",
    "#The prediction results\n",
    "prediction_train_video = clf.predict(training_data_video.transpose())\n",
    "prediction_test_video = clf.predict(testing_data_video.transpose())\n",
    "\n",
    "#print (prediction_train_video)\n",
    "#print(training_class_ecg_video[0])\n",
    "training_class=training_class_ecg_video[0]\n",
    "#print(training_class)\n",
    "#print(prediction_test_video)\n",
    "#print(training_class_ecg_video[0].shape[0])\n",
    "\n",
    "testing_class= testing_class_ecg_video[0]\n",
    "\n",
    "#Calculate and Print the training accuracy and testing accuracy. \n",
    "\n",
    "def cal_acc(str_):\n",
    "    x=0\n",
    "    for i in range (0, training_class.shape[0]):\n",
    "        if str_[i] == training_class[i] :\n",
    "            x= x+ 1 \n",
    "    acc_str = (x/training_class.shape[0]*100) \n",
    "    print (acc_str)\n",
    "    return ;\n",
    "cal_acc(prediction_train_video)\n",
    "\n",
    "def cal_acc1(str_):\n",
    "    a=0\n",
    "    for i in range (0, testing_class.shape[0]):\n",
    "        if str_[i] == testing_class[i] :\n",
    "            a= a+ 1 \n",
    "    acc_str = (a/testing_class.shape[0]*100) \n",
    "    print (acc_str)\n",
    "    return ;\n",
    "cal_acc1(prediction_test_video)\n",
    "\n",
    "\n",
    "# Compute the confusion matrix through sklearn.metrics.confusion_matrix()function for training data and testing data respectively\n",
    "print (confusion_matrix(training_class, prediction_train_video),  confusion_matrix(testing_class, prediction_test_video))"
   ]
  },
  {
   "cell_type": "code",
   "execution_count": null,
   "metadata": {},
   "outputs": [],
   "source": [
    "#Train svm classifier for ECG signals\n",
    "clf = svm.SVC(C=1000, kernel='linear')\n",
    "print(training_class_ecg_video.shape)\n",
    "print(training_data_ecg.shape)\n",
    "print(training_data_ecg.transpose().shape)\n",
    "clf.fit(training_data_ecg,training_class_ecg_video.transpose() )  \n",
    "\n",
    "#The prediction results\n",
    "prediction_train_ecg = clf.predict(training_data_ecg)\n",
    "prediction_test_ecg = clf.predict(testing_data_ecg)\n",
    "\n",
    "print(prediction_train_ecg.shape)\n",
    "print(prediction_test_ecg.shape)\n",
    "#Calculate and Print the training accuracy and testing accuracy. \n",
    "\n",
    "\n",
    "def cal_acc(str_):\n",
    "    x=0\n",
    "    for i in range (0, training_class.shape[0]):\n",
    "        if str_[i] == training_class[i] :\n",
    "            x= x+ 1 \n",
    "    acc_str = (x/training_class.shape[0]*100) \n",
    "    print (acc_str)\n",
    "    return ;\n",
    "cal_acc(prediction_train_ecg)\n",
    "\n",
    "def cal_acc1(str_):\n",
    "    a=0\n",
    "    for i in range (0, testing_class.shape[0]):\n",
    "        if str_[i] == testing_class[i] :\n",
    "            a= a+ 1 \n",
    "    acc_str = (a/testing_class.shape[0]*100) \n",
    "    print (acc_str)\n",
    "    return ;\n",
    "cal_acc1(prediction_test_ecg)\n",
    "\n",
    "\n",
    "# Compute the confusion matrix through sklearn.metrics.confusion_matrix()function for training data and testing data respectively\n",
    "print (confusion_matrix(training_class, prediction_train_ecg),  confusion_matrix(testing_class, prediction_test_ecg))"
   ]
  },
  {
   "cell_type": "code",
   "execution_count": null,
   "metadata": {},
   "outputs": [],
   "source": []
  },
  {
   "cell_type": "markdown",
   "metadata": {},
   "source": [
    "## Decision fusion: \n",
    "Design a stragety to fuse the decisions based on facial expression and ECG data."
   ]
  },
  {
   "cell_type": "code",
   "execution_count": null,
   "metadata": {
    "scrolled": true
   },
   "outputs": [],
   "source": [
    "#Try to combine the decisions of ECG and videos to get a better result\n",
    "prediction_test_combine=prediction_test_ecg * prediction_test_video\n",
    "\n",
    "print(prediction_test_combine.shape)\n",
    "print(testing_class.shape)\n",
    "\n",
    "#Calculate and Print the testing accuracy. \n",
    "\n",
    "def cal_acc1(str_):\n",
    "    a=0\n",
    "    for i in range (0, testing_class.shape[0]):\n",
    "        if str_[i] == testing_class[i] :\n",
    "            a= a+ 1 \n",
    "    acc_str = (a/testing_class.shape[0]*100) \n",
    "    print (acc_str)\n",
    "    return ;\n",
    "cal_acc1(prediction_test_combine)\n",
    "\n",
    "\n",
    "#Compute the confusion matrix through sklearn.metrics.confusion_matrix()function for testing data respectively\n",
    "\n"
   ]
  },
  {
   "cell_type": "markdown",
   "metadata": {},
   "source": [
    "### Question\n",
    "What is difference between decision-level fusion and feautre-level fusion?"
   ]
  },
  {
   "cell_type": "markdown",
   "metadata": {},
   "source": [
    "### Answer \n",
    "In feature-level fusion, the feature sets originating from multiple biometric sources are consolidated into a single feature set by the application of appropriate feature normalization, transformation, and reduction schemes.\n",
    "\n",
    "Decision level fusion falls under a broader area known as distributed detection systems and is the process of selecting one hypothesis from multiple M hypotheses given the decisions of multiple N sensors in the presence of noise and interference\n"
   ]
  },
  {
   "cell_type": "markdown",
   "metadata": {},
   "source": [
    "## Task 4: \n",
    "Use feature-level method (Task 2) on 10-fold cross-validation estimate of the emotion recognition system performance\n",
    "* Join the training/testing data matrices and the class vectors. Combine also the ‘training_data_personID’ and ‘testing_data_personID’ vectors that are needed to make the CV folds.\n",
    "* Construct the CV folds by training ten SVMs. For each SVM nine persons’ data is used as the training set (i.e. 90 samples) and one persons’ samples are kept as the test set (i.e. 10 samples) for the respective fold (i.e. each SVM has different persons’ samples excluded from the training set). Test each ten trained SVMs by using the corresponding one held-out persons’ samples and then calculate the average classification performances for each fold.\n",
    "* Calculate the mean and SD of the ten CV fold performances to produce the final CV performance estimate of the emotion recognition system. "
   ]
  },
  {
   "cell_type": "code",
   "execution_count": null,
   "metadata": {},
   "outputs": [],
   "source": [
    "data4 = sio.loadmat('lab3_data.mat')\n",
    "\n",
    "print(data4.keys())\n",
    "personID_train = data4['training_personID']\n",
    "personID_test = data4['testing_personID']\n",
    "\n",
    "training_class = data4['training_class']\n",
    "\n",
    "testing_class = data4['testing_class']\n",
    "\n",
    "print(personID_train.shape)\n",
    "print(personID_test.shape)\n",
    "\n",
    "feature_CCDF_all = np.concatenate ((training_CCDF,testing_CCDF),axis=0)\n",
    "personID_all = np.concatenate((personID_train, personID_test))\n",
    "class_all = np.concatenate((training_class, testing_class))\n",
    "\n",
    "\n",
    "\n",
    "print(feature_CCDF_all.shape)\n",
    "print(personID_all.shape)\n",
    "print(class_all.shape)\n",
    "\n",
    "uniquePerson = np.unique(personID_all)\n",
    "print(uniquePerson)\n",
    "\n",
    "array = np.zeros(len(uniquePerson))\n",
    "print(array)\n",
    "print (np.where(personID_all == 1)[0])\n",
    "\n",
    "i = 0\n",
    "for personID in uniquePerson:\n",
    "    \n",
    "    ind_test = np.where(personID_all == personID)[0]\n",
    "    #print(ind_test)\n",
    "    ind_train = np.where(personID_all != personID)[0]\n",
    "    #print(ind_train)\n",
    "    \n",
    "    sample_test = feature_CCDF_all [ind_test]\n",
    "    label_test = class_all [ind_test]\n",
    "    \n",
    "    sample_train = feature_CCDF_all [ind_train]\n",
    "    label_train = class_all [ind_train]\n",
    "\n",
    "\n",
    "    cl_sample = svm.SVC(kernel='linear')\n",
    "\n",
    "    cl_sample.fit(sample_train, label_train) \n",
    "    pred = cl_sample.predict(sample_test)\n",
    "    print(pred)\n",
    "    array[i] = sum(pred == label_test.transpose()[0])/len(ind_test)\n",
    "    i = i+ 1\n",
    "\n",
    "print (array)"
   ]
  },
  {
   "cell_type": "code",
   "execution_count": null,
   "metadata": {},
   "outputs": [],
   "source": [
    "    personID =1\n",
    "    ind_test = np.where(personID_all == personID)[0]\n",
    "    #print(ind_test)\n",
    "    ind_train = np.where(personID_all != personID)[0]\n",
    "    #print(ind_train)\n",
    "    \n",
    "    sample_test = feature_CCDF_all [ind_test]\n",
    "    label_test = class_all [ind_test]\n",
    "    \n",
    "    sample_train = feature_CCDF_all [ind_train]\n",
    "    label_train = class_all [ind_train]\n",
    "\n",
    "\n",
    "    cl_sample = svm.SVC(kernel='linear')\n",
    "\n",
    "    cl_sample.fit(sample_train, label_train) \n",
    "    pred = cl_sample.predict(sample_test)\n",
    "    print(pred)\n",
    "    print(label_test.transpose()[0])\n",
    "    print(len(ind_test))\n",
    "    \n",
    "    array[i] = sum(pred == label_test.transpose()[0])/len(ind_test)\n",
    "    i = i+ 1"
   ]
  }
 ],
 "metadata": {
  "kernelspec": {
   "display_name": "Python 3",
   "language": "python",
   "name": "python3"
  },
  "language_info": {
   "codemirror_mode": {
    "name": "ipython",
    "version": 3
   },
   "file_extension": ".py",
   "mimetype": "text/x-python",
   "name": "python",
   "nbconvert_exporter": "python",
   "pygments_lexer": "ipython3",
   "version": "3.7.3"
  }
 },
 "nbformat": 4,
 "nbformat_minor": 2
}
